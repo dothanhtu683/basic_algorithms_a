{
  "nbformat": 4,
  "nbformat_minor": 0,
  "metadata": {
    "colab": {
      "name": "luyentap3.ipynb",
      "provenance": [],
      "collapsed_sections": [],
      "include_colab_link": true
    },
    "kernelspec": {
      "name": "python3",
      "display_name": "Python 3"
    }
  },
  "cells": [
    {
      "cell_type": "markdown",
      "metadata": {
        "id": "view-in-github",
        "colab_type": "text"
      },
      "source": [
        "<a href=\"https://colab.research.google.com/github/dothanhtu683/basic_algorithms_a/blob/master/luyentap3.ipynb\" target=\"_parent\"><img src=\"https://colab.research.google.com/assets/colab-badge.svg\" alt=\"Open In Colab\"/></a>"
      ]
    },
    {
      "cell_type": "code",
      "metadata": {
        "id": "b_X1EMNHPSnj",
        "colab_type": "code",
        "colab": {
          "base_uri": "https://localhost:8080/",
          "height": 54
        },
        "outputId": "0cb663e2-96c0-41a0-ca9d-fb74ad15d849"
      },
      "source": [
        "List_A =[1,1,2,5,5,5,8,8,9]\n",
        "print(List_A)\n",
        "List_B =[1,2,2,3,3,3,6,10]\n",
        "print(List_B)"
      ],
      "execution_count": 4,
      "outputs": [
        {
          "output_type": "stream",
          "text": [
            "[1, 1, 2, 5, 5, 5, 8, 8, 9]\n",
            "[1, 2, 2, 3, 3, 3, 6, 10]\n"
          ],
          "name": "stdout"
        }
      ]
    },
    {
      "cell_type": "code",
      "metadata": {
        "id": "7NZHDGUvScf3",
        "colab_type": "code",
        "colab": {
          "base_uri": "https://localhost:8080/",
          "height": 54
        },
        "outputId": "151912ff-d2b2-4c74-f73a-7dff1b78ac25"
      },
      "source": [
        "List_A_set = set(List_A)\n",
        "print(List_A_set)\n",
        "List_B_set = set(List_B)\n",
        "print(List_B_set)\n"
      ],
      "execution_count": 5,
      "outputs": [
        {
          "output_type": "stream",
          "text": [
            "{1, 2, 5, 8, 9}\n",
            "{1, 2, 3, 6, 10}\n"
          ],
          "name": "stdout"
        }
      ]
    },
    {
      "cell_type": "code",
      "metadata": {
        "id": "OtM2Li94TLFH",
        "colab_type": "code",
        "colab": {
          "base_uri": "https://localhost:8080/",
          "height": 35
        },
        "outputId": "66b26900-21be-4b2d-b283-6ba13c61d6ce"
      },
      "source": [
        "List_A_set | List_B_set\n"
      ],
      "execution_count": 6,
      "outputs": [
        {
          "output_type": "execute_result",
          "data": {
            "text/plain": [
              "{1, 2, 3, 5, 6, 8, 9, 10}"
            ]
          },
          "metadata": {
            "tags": []
          },
          "execution_count": 6
        }
      ]
    },
    {
      "cell_type": "code",
      "metadata": {
        "id": "0GGrxfqnTVuf",
        "colab_type": "code",
        "colab": {
          "base_uri": "https://localhost:8080/",
          "height": 35
        },
        "outputId": "d8d75e0f-2ba4-4b14-91d2-6cbc310d78a6"
      },
      "source": [
        "List_A_set. union(List_B_set)"
      ],
      "execution_count": 7,
      "outputs": [
        {
          "output_type": "execute_result",
          "data": {
            "text/plain": [
              "{1, 2, 3, 5, 6, 8, 9, 10}"
            ]
          },
          "metadata": {
            "tags": []
          },
          "execution_count": 7
        }
      ]
    },
    {
      "cell_type": "code",
      "metadata": {
        "id": "xmFiFh5YTe0n",
        "colab_type": "code",
        "colab": {
          "base_uri": "https://localhost:8080/",
          "height": 35
        },
        "outputId": "5f487c36-6da0-4886-f803-c4e01eb290d9"
      },
      "source": [
        "List_A_set & List_B_set"
      ],
      "execution_count": 8,
      "outputs": [
        {
          "output_type": "execute_result",
          "data": {
            "text/plain": [
              "{1, 2}"
            ]
          },
          "metadata": {
            "tags": []
          },
          "execution_count": 8
        }
      ]
    },
    {
      "cell_type": "code",
      "metadata": {
        "id": "KHkbEjKFTo6m",
        "colab_type": "code",
        "colab": {
          "base_uri": "https://localhost:8080/",
          "height": 35
        },
        "outputId": "978d967c-6448-4ef3-b0f1-e25aab92ec27"
      },
      "source": [
        "List_A_set. intersection(List_B_set)"
      ],
      "execution_count": 9,
      "outputs": [
        {
          "output_type": "execute_result",
          "data": {
            "text/plain": [
              "{1, 2}"
            ]
          },
          "metadata": {
            "tags": []
          },
          "execution_count": 9
        }
      ]
    },
    {
      "cell_type": "code",
      "metadata": {
        "id": "W8AD-oQxTxUg",
        "colab_type": "code",
        "colab": {
          "base_uri": "https://localhost:8080/",
          "height": 35
        },
        "outputId": "6d6b1f85-2e2e-4188-b1c4-0f876a372b89"
      },
      "source": [
        "List_A_set - List_B_set"
      ],
      "execution_count": 10,
      "outputs": [
        {
          "output_type": "execute_result",
          "data": {
            "text/plain": [
              "{5, 8, 9}"
            ]
          },
          "metadata": {
            "tags": []
          },
          "execution_count": 10
        }
      ]
    },
    {
      "cell_type": "code",
      "metadata": {
        "id": "1vm5_-3mT1LE",
        "colab_type": "code",
        "colab": {
          "base_uri": "https://localhost:8080/",
          "height": 35
        },
        "outputId": "9e082c03-3a9f-4489-cf05-6ab7a17d3c91"
      },
      "source": [
        "List_A_set. difference (List_B_set)"
      ],
      "execution_count": 11,
      "outputs": [
        {
          "output_type": "execute_result",
          "data": {
            "text/plain": [
              "{5, 8, 9}"
            ]
          },
          "metadata": {
            "tags": []
          },
          "execution_count": 11
        }
      ]
    },
    {
      "cell_type": "code",
      "metadata": {
        "id": "QqGseGI2T7XJ",
        "colab_type": "code",
        "colab": {
          "base_uri": "https://localhost:8080/",
          "height": 35
        },
        "outputId": "e90042bc-0325-433d-bc46-0ec8304e4df2"
      },
      "source": [
        "List_A_set ^ List_B_set"
      ],
      "execution_count": 12,
      "outputs": [
        {
          "output_type": "execute_result",
          "data": {
            "text/plain": [
              "{3, 5, 6, 8, 9, 10}"
            ]
          },
          "metadata": {
            "tags": []
          },
          "execution_count": 12
        }
      ]
    },
    {
      "cell_type": "code",
      "metadata": {
        "id": "jCabpeFvUG8e",
        "colab_type": "code",
        "colab": {
          "base_uri": "https://localhost:8080/",
          "height": 35
        },
        "outputId": "d6124ecf-3cf4-4247-814a-13b2ea01e57a"
      },
      "source": [
        "List_A_set. symmetric_difference(List_B_set)"
      ],
      "execution_count": 15,
      "outputs": [
        {
          "output_type": "execute_result",
          "data": {
            "text/plain": [
              "{3, 5, 6, 8, 9, 10}"
            ]
          },
          "metadata": {
            "tags": []
          },
          "execution_count": 15
        }
      ]
    },
    {
      "cell_type": "code",
      "metadata": {
        "id": "L4657A80VPre",
        "colab_type": "code",
        "colab": {
          "base_uri": "https://localhost:8080/",
          "height": 35
        },
        "outputId": "4aa495f7-0c40-479e-cd19-aa4cb399d303"
      },
      "source": [
        "numbers = {'いち': 1,'さん': 3,'しち': 7,'に': 2,'よん': 4,'はち': 8,'じゅう': 10,'ご': 5,'きゅう': 9,'ろく': 6}\n",
        "print(numbers)"
      ],
      "execution_count": 21,
      "outputs": [
        {
          "output_type": "stream",
          "text": [
            "{'いち': 1, 'さん': 3, 'しち': 7, 'に': 2, 'よん': 4, 'はち': 8, 'じゅう': 10, 'ご': 5, 'きゅう': 9, 'ろく': 6}\n"
          ],
          "name": "stdout"
        }
      ]
    },
    {
      "cell_type": "code",
      "metadata": {
        "id": "a7UeWkb_V1kl",
        "colab_type": "code",
        "colab": {
          "base_uri": "https://localhost:8080/",
          "height": 175
        },
        "outputId": "d472cf47-7f30-4bf9-81fc-7f2288939ceb"
      },
      "source": [
        "print(numbers[1]) in numbers"
      ],
      "execution_count": 22,
      "outputs": [
        {
          "output_type": "error",
          "ename": "KeyError",
          "evalue": "ignored",
          "traceback": [
            "\u001b[0;31m---------------------------------------------------------------------------\u001b[0m",
            "\u001b[0;31mKeyError\u001b[0m                                  Traceback (most recent call last)",
            "\u001b[0;32m<ipython-input-22-d1ecfa33ff9b>\u001b[0m in \u001b[0;36m<module>\u001b[0;34m()\u001b[0m\n\u001b[0;32m----> 1\u001b[0;31m \u001b[0mprint\u001b[0m\u001b[0;34m(\u001b[0m\u001b[0mnumbers\u001b[0m\u001b[0;34m[\u001b[0m\u001b[0;36m1\u001b[0m\u001b[0;34m]\u001b[0m\u001b[0;34m)\u001b[0m \u001b[0;32min\u001b[0m \u001b[0mnumbers\u001b[0m\u001b[0;34m\u001b[0m\u001b[0;34m\u001b[0m\u001b[0m\n\u001b[0m",
            "\u001b[0;31mKeyError\u001b[0m: 1"
          ]
        }
      ]
    },
    {
      "cell_type": "code",
      "metadata": {
        "id": "_M4Rn6VQV2EF",
        "colab_type": "code",
        "colab": {
          "base_uri": "https://localhost:8080/",
          "height": 35
        },
        "outputId": "294b7f9e-8264-46e8-b9a5-f8d34158aefa"
      },
      "source": [
        "num_keys = len(numbers)\n",
        "print(num_keys)"
      ],
      "execution_count": 23,
      "outputs": [
        {
          "output_type": "stream",
          "text": [
            "10\n"
          ],
          "name": "stdout"
        }
      ]
    },
    {
      "cell_type": "code",
      "metadata": {
        "id": "lEUHJ35_VRZK",
        "colab_type": "code",
        "colab": {
          "base_uri": "https://localhost:8080/",
          "height": 35
        },
        "outputId": "2b10babf-9edd-474b-cfd4-359bd2b336be"
      },
      "source": [
        "contains_ten_k = numbers. get('十')\n",
        "print(contains_ten_k)"
      ],
      "execution_count": 24,
      "outputs": [
        {
          "output_type": "stream",
          "text": [
            "None\n"
          ],
          "name": "stdout"
        }
      ]
    },
    {
      "cell_type": "code",
      "metadata": {
        "id": "T1OrY1NQVQMg",
        "colab_type": "code",
        "colab": {
          "base_uri": "https://localhost:8080/",
          "height": 35
        },
        "outputId": "3a11d7ec-f7eb-4e33-b90b-49983f681fbf"
      },
      "source": [
        "contains_ten_k = \"十\" in numbers\n",
        "print(contains_ten_k)"
      ],
      "execution_count": 25,
      "outputs": [
        {
          "output_type": "stream",
          "text": [
            "False\n"
          ],
          "name": "stdout"
        }
      ]
    },
    {
      "cell_type": "code",
      "metadata": {
        "id": "Vof7Tgd2btuV",
        "colab_type": "code",
        "colab": {
          "base_uri": "https://localhost:8080/",
          "height": 35
        },
        "outputId": "db2e1b57-2394-4abc-96fe-3ee24977904e"
      },
      "source": [
        "numbers['じゅういち'] = 11\n",
        "print(numbers)"
      ],
      "execution_count": 26,
      "outputs": [
        {
          "output_type": "stream",
          "text": [
            "{'いち': 1, 'さん': 3, 'しち': 7, 'に': 2, 'よん': 4, 'はち': 8, 'じゅう': 10, 'ご': 5, 'きゅう': 9, 'ろく': 6, 'じゅういち': 11}\n"
          ],
          "name": "stdout"
        }
      ]
    },
    {
      "cell_type": "code",
      "metadata": {
        "id": "nmSJYTs2b8eQ",
        "colab_type": "code",
        "colab": {
          "base_uri": "https://localhost:8080/",
          "height": 35
        },
        "outputId": "df569aa8-4da9-4e90-ddf5-194346f55a8f"
      },
      "source": [
        "sorted_keys = sorted(numbers. keys())\n",
        "print(sorted_keys)"
      ],
      "execution_count": 30,
      "outputs": [
        {
          "output_type": "stream",
          "text": [
            "['いち', 'きゅう', 'ご', 'さん', 'しち', 'じゅう', 'じゅういち', 'に', 'はち', 'よん', 'ろく']\n"
          ],
          "name": "stdout"
        }
      ]
    },
    {
      "cell_type": "code",
      "metadata": {
        "id": "Ywbo7sTPcddj",
        "colab_type": "code",
        "colab": {
          "base_uri": "https://localhost:8080/",
          "height": 35
        },
        "outputId": "8cdd184e-0a93-4644-e5db-9c263d39da5e"
      },
      "source": [
        "print(sorted_keys[0])"
      ],
      "execution_count": 31,
      "outputs": [
        {
          "output_type": "stream",
          "text": [
            "いち\n"
          ],
          "name": "stdout"
        }
      ]
    },
    {
      "cell_type": "code",
      "metadata": {
        "id": "xNy8spEickH8",
        "colab_type": "code",
        "colab": {
          "base_uri": "https://localhost:8080/",
          "height": 35
        },
        "outputId": "76f85e7d-d6cd-430e-b7d2-a26ecf1cd147"
      },
      "source": [
        "print(sorted_keys[-1])"
      ],
      "execution_count": 32,
      "outputs": [
        {
          "output_type": "stream",
          "text": [
            "ろく\n"
          ],
          "name": "stdout"
        }
      ]
    },
    {
      "cell_type": "code",
      "metadata": {
        "id": "D3Ine2uScqIb",
        "colab_type": "code",
        "colab": {
          "base_uri": "https://localhost:8080/",
          "height": 35
        },
        "outputId": "74ee7f3f-f3f1-4f89-95a0-a6b1389b98b1"
      },
      "source": [
        "sorted_values = sorted(numbers. values())\n",
        "print(sorted_values)"
      ],
      "execution_count": 33,
      "outputs": [
        {
          "output_type": "stream",
          "text": [
            "[1, 2, 3, 4, 5, 6, 7, 8, 9, 10, 11]\n"
          ],
          "name": "stdout"
        }
      ]
    },
    {
      "cell_type": "code",
      "metadata": {
        "id": "3ACfkpFCdzV7",
        "colab_type": "code",
        "colab": {
          "base_uri": "https://localhost:8080/",
          "height": 72
        },
        "outputId": "2e4b4280-e75b-4982-c788-05f37b5311ba"
      },
      "source": [
        "print(\"please insert any numbers\")\n",
        "x = input()\n",
        "x = int(x)\n",
        "\n",
        "if x == 0:\n",
        "  print(x, \" is zero\")\n",
        "elif x > 0:\n",
        "  print(x, \" is positive\")\n",
        "elif x < 0:\n",
        "  print(x, \"is negative\")\n",
        "else:\n",
        "  print(x, \" is None\")"
      ],
      "execution_count": 39,
      "outputs": [
        {
          "output_type": "stream",
          "text": [
            "please insert any numbers\n",
            "2\n",
            "2  is positive\n"
          ],
          "name": "stdout"
        }
      ]
    },
    {
      "cell_type": "code",
      "metadata": {
        "id": "d129WCVEgtA2",
        "colab_type": "code",
        "colab": {}
      },
      "source": [
        ""
      ],
      "execution_count": 0,
      "outputs": []
    },
    {
      "cell_type": "code",
      "metadata": {
        "id": "PIhlrOlNeIxO",
        "colab_type": "code",
        "colab": {
          "base_uri": "https://localhost:8080/",
          "height": 53
        },
        "outputId": "14766f6b-dc67-46d3-b46b-1bc51b29e31a"
      },
      "source": [
        "print(\"Please put country name (japan, Malaysia, UK, Europe , USA):\")\n",
        "country = input()\n",
        "print (\"Please put the raw price of each good:\")\n",
        "raw_prince_of_good = input()\n",
        "raw_prince_of_good = int(raw_prince_of_good )\n"
      ],
      "execution_count": 0,
      "outputs": [
        {
          "output_type": "stream",
          "text": [
            "Please put country name (japan, Malaysia, UK, Europe , USA):\n"
          ],
          "name": "stdout"
        }
      ]
    },
    {
      "cell_type": "code",
      "metadata": {
        "id": "YLAVMEMfiFS0",
        "colab_type": "code",
        "colab": {}
      },
      "source": [
        "if country -- 'Japan' "
      ],
      "execution_count": 0,
      "outputs": []
    }
  ]
}