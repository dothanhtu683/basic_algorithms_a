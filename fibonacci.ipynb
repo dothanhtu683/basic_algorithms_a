{
  "nbformat": 4,
  "nbformat_minor": 0,
  "metadata": {
    "colab": {
      "name": "fibonacci.ipynb",
      "provenance": [],
      "collapsed_sections": [],
      "authorship_tag": "ABX9TyNO3I8p74AQPkRo1z6OFgV8",
      "include_colab_link": true
    },
    "kernelspec": {
      "name": "python3",
      "display_name": "Python 3"
    }
  },
  "cells": [
    {
      "cell_type": "markdown",
      "metadata": {
        "id": "view-in-github",
        "colab_type": "text"
      },
      "source": [
        "<a href=\"https://colab.research.google.com/github/dothanhtu683/basic_algorithms_a/blob/master/fibonacci.ipynb\" target=\"_parent\"><img src=\"https://colab.research.google.com/assets/colab-badge.svg\" alt=\"Open In Colab\"/></a>"
      ]
    },
    {
      "cell_type": "code",
      "metadata": {
        "id": "5t9G1T6BKNvD",
        "colab_type": "code",
        "colab": {
          "base_uri": "https://localhost:8080/",
          "height": 204
        },
        "outputId": "d8276329-98e5-47f4-8a2a-a2a6b9dde04d"
      },
      "source": [
        "# n番目の項までのフィボナッチ数列を表示するプログラム\n",
        "n = int(input(\"整数を入力してください\"))\n",
        "f1,f2=0,1\n",
        "fn=0\n",
        "count = 0\n",
        "#用語の数が有効かどうかを確認\n",
        "if n < 0:\n",
        "   print(\"正の整数を入力してください\")\n",
        "elif n==0:\n",
        "    print(\"フィボナッチ数列\",\":\")\n",
        "    print (n)\n",
        "elif n == 1:\n",
        "   print(\"フィボナッチ数列\",\":\")\n",
        "   print(n)\n",
        "else:\n",
        "   print(\"フィボナッチ数列:\") \n",
        "   while count < n:\n",
        "       print(f1,count)\n",
        "       fn =f1+f2\n",
        "       f1= f2\n",
        "       f2 = fn\n",
        "       count += 1"
      ],
      "execution_count": 1,
      "outputs": [
        {
          "output_type": "stream",
          "text": [
            "整数を入力してください9\n",
            "フィボナッチ数列:\n",
            "0 0\n",
            "1 1\n",
            "1 2\n",
            "2 3\n",
            "3 4\n",
            "5 5\n",
            "8 6\n",
            "13 7\n",
            "21 8\n"
          ],
          "name": "stdout"
        }
      ]
    },
    {
      "cell_type": "code",
      "metadata": {
        "id": "KCbWbAz4KUoD",
        "colab_type": "code",
        "colab": {}
      },
      "source": [
        "9"
      ],
      "execution_count": 0,
      "outputs": []
    }
  ]
}