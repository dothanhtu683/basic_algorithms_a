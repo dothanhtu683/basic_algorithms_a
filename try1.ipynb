{
  "nbformat": 4,
  "nbformat_minor": 0,
  "metadata": {
    "colab": {
      "name": "try1.ipynb",
      "provenance": []
    },
    "kernelspec": {
      "name": "python3",
      "display_name": "Python 3"
    }
  },
  "cells": [
    {
      "cell_type": "code",
      "metadata": {
        "id": "xwSs58vwB58X",
        "colab_type": "code",
        "colab": {}
      },
      "source": [
        ""
      ],
      "execution_count": 0,
      "outputs": []
    },
    {
      "cell_type": "markdown",
      "metadata": {
        "id": "nUWIPo8uDIyo",
        "colab_type": "text"
      },
      "source": [
        "# 初めてのノートブック\n",
        "　**コードを書いてみましょう**"
      ]
    },
    {
      "cell_type": "code",
      "metadata": {
        "id": "bEvtRY5OEMUd",
        "colab_type": "code",
        "outputId": "d03effcb-b4c6-4e88-f3a0-3a2d49df5380",
        "colab": {
          "base_uri": "https://localhost:8080/",
          "height": 34
        }
      },
      "source": [
        "#計算する\n",
        "2*(3+4)\n"
      ],
      "execution_count": 0,
      "outputs": [
        {
          "output_type": "execute_result",
          "data": {
            "text/plain": [
              "14"
            ]
          },
          "metadata": {
            "tags": []
          },
          "execution_count": 1
        }
      ]
    },
    {
      "cell_type": "markdown",
      "metadata": {
        "id": "_fC_2rkLE_PH",
        "colab_type": "text"
      },
      "source": [
        "*出力してみましょう*\n",
        "\n",
        "\n",
        "\n",
        "```\n",
        "# First value: 1\n",
        "```\n",
        "\n",
        "\n"
      ]
    },
    {
      "cell_type": "code",
      "metadata": {
        "id": "sbkKTY5lGLdW",
        "colab_type": "code",
        "outputId": "82c51706-ac2d-4243-fc0e-4d748493ff3f",
        "colab": {
          "base_uri": "https://localhost:8080/",
          "height": 34
        }
      },
      "source": [
        "'''\n",
        "値を出力する\n",
        "'''\n",
        "\n",
        "\n",
        "print ('First value: ', 1)"
      ],
      "execution_count": 0,
      "outputs": [
        {
          "output_type": "stream",
          "text": [
            "First value:  1\n"
          ],
          "name": "stdout"
        }
      ]
    },
    {
      "cell_type": "markdown",
      "metadata": {
        "id": "G-4lKenNHmwE",
        "colab_type": "text"
      },
      "source": [
        "**`sort`の関数を呼び出す**\n",
        "\n",
        "\n",
        "1. 以下のリストを作る\n",
        "\n",
        "\n",
        "\n",
        "```\n",
        "Numbers = [4,3,2,1]\n",
        "```\n",
        "\n",
        "2. `sort()`の関数を使って、リストをソートする。\n",
        "\n",
        "3. `print`を使って、出力する。\n",
        "\n"
      ]
    },
    {
      "cell_type": "code",
      "metadata": {
        "id": "lcu5JoZhKRAE",
        "colab_type": "code",
        "outputId": "3b240975-67f0-46d4-a263-38ac3e6e120b",
        "colab": {
          "base_uri": "https://localhost:8080/",
          "height": 34
        }
      },
      "source": [
        "Numbers = [4,3,2,1]\n",
        "Numbers.sort()\n",
        "print(Numbers)"
      ],
      "execution_count": 0,
      "outputs": [
        {
          "output_type": "stream",
          "text": [
            "[1, 2, 3, 4]\n"
          ],
          "name": "stdout"
        }
      ]
    }
  ]
}