{
  "nbformat": 4,
  "nbformat_minor": 0,
  "metadata": {
    "colab": {
      "name": "テーマ4：電卓.ipynb",
      "provenance": [],
      "collapsed_sections": [],
      "include_colab_link": true
    },
    "kernelspec": {
      "name": "python3",
      "display_name": "Python 3"
    }
  },
  "cells": [
    {
      "cell_type": "markdown",
      "metadata": {
        "id": "view-in-github",
        "colab_type": "text"
      },
      "source": [
        "<a href=\"https://colab.research.google.com/github/dothanhtu683/basic_algorithms_a/blob/master/%E3%83%86%E3%83%BC%E3%83%9E4%EF%BC%9A%E9%9B%BB%E5%8D%93.ipynb\" target=\"_parent\"><img src=\"https://colab.research.google.com/assets/colab-badge.svg\" alt=\"Open In Colab\"/></a>"
      ]
    },
    {
      "cell_type": "code",
      "metadata": {
        "id": "zowStwiA-e1H",
        "colab_type": "code",
        "outputId": "3624a163-5d4d-494b-9d06-ac14802cd9b7",
        "colab": {
          "base_uri": "https://localhost:8080/",
          "height": 51
        }
      },
      "source": [
        "# 追加する関数\n",
        "def 追加する(num1, num2): \n",
        "    return num1 + num2 \n",
        "    \n",
        "# マイナス関数\n",
        "def 引く(num1, num2): \n",
        "    return num1 - num2 \n",
        "  \n",
        "# 乗算する関数\n",
        "def かける(num1, num2): \n",
        "    return num1 * num2 \n",
        "  \n",
        "\n",
        "# 除算する関数 \n",
        "def 割る(num1, num2): \n",
        "    return num1 / num2 \n",
        "    \n",
        "  \n",
        "print(\" 追加する \",\" 引く \" ,\" かける \", \" 割る \", \" ストップ \") \n",
        "  \n",
        "  \n",
        "\n",
        "# 入力を取得 \n",
        "while True:\n",
        "  select = input(\"1, 2, 3, 4 ,5:\") \n",
        "  if select == '1': \n",
        "      number_1 = int(input(\"最初の番号を入力してください: \")) \n",
        "      number_2 = int(input(\"2番目の番号を入力してください: \"))\n",
        "      print(number_1, \"+\", number_2, \"=\", \n",
        "                      追加する(number_1, number_2)) \n",
        "      \n",
        "  elif select == '2': \n",
        "      number_1 = int(input(\"最初の番号を入力してください: \")) \n",
        "      number_2 = int(input(\"2番目の番号を入力してください: \"))\n",
        "      print(number_1, \"-\", number_2, \"=\", \n",
        "                      引く(number_1, number_2)) \n",
        "\n",
        "  elif select == '3': \n",
        "      number_1 = int(input(\"最初の番号を入力してください: \")) \n",
        "      number_2 = int(input(\"2番目の番号を入力してください: \"))\n",
        "      print(number_1, \"*\", number_2, \"=\", \n",
        "                      かける(number_1, number_2)) \n",
        "    \n",
        "  elif select == '4': \n",
        "      number_1 = int(input(\"最初の番号を入力してください: \")) \n",
        "      number_2 = int(input(\"2番目の番号を入力してください: \"))\n",
        "      print(number_1, \"/\", number_2, \"=\", \n",
        "                      割る(number_1, number_2)) \n",
        "      \n",
        "  elif select == '5':\n",
        "    print ( \"　終わり　\")\n",
        "    break;\n",
        "    \n",
        "  else: \n",
        "      print(\"正しい数を入力してください\") \n",
        "\n",
        "    \n",
        "  "
      ],
      "execution_count": 0,
      "outputs": [
        {
          "output_type": "stream",
          "text": [
            " 追加する   引く   かける   割る   ストップ \n",
            "正しい数を入力してください\n"
          ],
          "name": "stdout"
        }
      ]
    },
    {
      "cell_type": "code",
      "metadata": {
        "id": "XEr2qRTanFXZ",
        "colab_type": "code",
        "colab": {}
      },
      "source": [
        ""
      ],
      "execution_count": 0,
      "outputs": []
    }
  ]
}